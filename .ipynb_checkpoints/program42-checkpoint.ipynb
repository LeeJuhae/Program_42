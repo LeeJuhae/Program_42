{
 "cells": [
  {
   "cell_type": "code",
   "execution_count": 1,
   "metadata": {},
   "outputs": [],
   "source": [
    "import requests"
   ]
  },
  {
   "cell_type": "code",
   "execution_count": 2,
   "metadata": {},
   "outputs": [],
   "source": [
    "import secret"
   ]
  },
  {
   "cell_type": "code",
   "execution_count": 3,
   "metadata": {},
   "outputs": [],
   "source": [
    "import urllib.parse"
   ]
  },
  {
   "cell_type": "markdown",
   "metadata": {},
   "source": [
    "### get code"
   ]
  },
  {
   "cell_type": "code",
   "execution_count": 4,
   "metadata": {},
   "outputs": [],
   "source": [
    "URL = \"https://api.intra.42.fr/oauth/authorize?scope=public projects profile elearning tig forum&\""
   ]
  },
  {
   "cell_type": "code",
   "execution_count": 5,
   "metadata": {},
   "outputs": [
    {
     "ename": "NameError",
     "evalue": "name 'REDIRECT_URI' is not defined",
     "output_type": "error",
     "traceback": [
      "\u001b[0;31m---------------------------------------------------------------------------\u001b[0m",
      "\u001b[0;31mNameError\u001b[0m                                 Traceback (most recent call last)",
      "\u001b[0;32m<ipython-input-5-3e97d143a1e8>\u001b[0m in \u001b[0;36m<module>\u001b[0;34m\u001b[0m\n\u001b[1;32m      2\u001b[0m     \u001b[0;34m\"client_id\"\u001b[0m\u001b[0;34m:\u001b[0m \u001b[0msecret\u001b[0m\u001b[0;34m.\u001b[0m\u001b[0mCLIENT_ID\u001b[0m\u001b[0;34m,\u001b[0m\u001b[0;34m\u001b[0m\u001b[0;34m\u001b[0m\u001b[0m\n\u001b[1;32m      3\u001b[0m     \u001b[0;34m\"response_type\"\u001b[0m\u001b[0;34m:\u001b[0m \u001b[0;34m\"code\"\u001b[0m\u001b[0;34m,\u001b[0m\u001b[0;34m\u001b[0m\u001b[0;34m\u001b[0m\u001b[0m\n\u001b[0;32m----> 4\u001b[0;31m     \u001b[0;34m\"redirect_uri\"\u001b[0m\u001b[0;34m:\u001b[0m \u001b[0mREDIRECT_URI\u001b[0m\u001b[0;34m,\u001b[0m\u001b[0;34m\u001b[0m\u001b[0;34m\u001b[0m\u001b[0m\n\u001b[0m\u001b[1;32m      5\u001b[0m }\n",
      "\u001b[0;31mNameError\u001b[0m: name 'REDIRECT_URI' is not defined"
     ]
    }
   ],
   "source": [
    "params = {\n",
    "    \"client_id\": secret.CLIENT_ID,\n",
    "    \"response_type\": \"code\",\n",
    "    \"redirect_uri\": REDIRECT_URI,\n",
    "}"
   ]
  },
  {
   "cell_type": "code",
   "execution_count": 6,
   "metadata": {},
   "outputs": [
    {
     "ename": "NameError",
     "evalue": "name 'params' is not defined",
     "output_type": "error",
     "traceback": [
      "\u001b[0;31m---------------------------------------------------------------------------\u001b[0m",
      "\u001b[0;31mNameError\u001b[0m                                 Traceback (most recent call last)",
      "\u001b[0;32m<ipython-input-6-dfeaa5ca428b>\u001b[0m in \u001b[0;36m<module>\u001b[0;34m\u001b[0m\n\u001b[0;32m----> 1\u001b[0;31m \u001b[0mclient\u001b[0m \u001b[0;34m=\u001b[0m \u001b[0mrequests\u001b[0m\u001b[0;34m.\u001b[0m\u001b[0mget\u001b[0m\u001b[0;34m(\u001b[0m\u001b[0mURL\u001b[0m\u001b[0;34m,\u001b[0m \u001b[0mparams\u001b[0m\u001b[0;34m=\u001b[0m\u001b[0mparams\u001b[0m\u001b[0;34m)\u001b[0m\u001b[0;34m\u001b[0m\u001b[0;34m\u001b[0m\u001b[0m\n\u001b[0m",
      "\u001b[0;31mNameError\u001b[0m: name 'params' is not defined"
     ]
    }
   ],
   "source": [
    "client = requests.get(URL, params=params)"
   ]
  },
  {
   "cell_type": "code",
   "execution_count": 7,
   "metadata": {},
   "outputs": [
    {
     "ename": "NameError",
     "evalue": "name 'client' is not defined",
     "output_type": "error",
     "traceback": [
      "\u001b[0;31m---------------------------------------------------------------------------\u001b[0m",
      "\u001b[0;31mNameError\u001b[0m                                 Traceback (most recent call last)",
      "\u001b[0;32m<ipython-input-7-456348b4cea4>\u001b[0m in \u001b[0;36m<module>\u001b[0;34m\u001b[0m\n\u001b[0;32m----> 1\u001b[0;31m \u001b[0mparams\u001b[0m \u001b[0;34m=\u001b[0m \u001b[0mclient\u001b[0m\u001b[0;34m.\u001b[0m\u001b[0mjson\u001b[0m\u001b[0;34m(\u001b[0m\u001b[0;34m)\u001b[0m\u001b[0;34m\u001b[0m\u001b[0;34m\u001b[0m\u001b[0m\n\u001b[0m",
      "\u001b[0;31mNameError\u001b[0m: name 'client' is not defined"
     ]
    }
   ],
   "source": [
    "params = client.json()"
   ]
  },
  {
   "cell_type": "code",
   "execution_count": 75,
   "metadata": {},
   "outputs": [],
   "source": [
    "from datetime import datetime, timedelta\n",
    "import datetime"
   ]
  },
  {
   "cell_type": "code",
   "execution_count": 53,
   "metadata": {},
   "outputs": [
    {
     "data": {
      "text/plain": [
       "'2020-05-07 13:17:07.049515'"
      ]
     },
     "execution_count": 53,
     "metadata": {},
     "output_type": "execute_result"
    }
   ],
   "source": [
    "str(datetime.utcnow())"
   ]
  },
  {
   "cell_type": "code",
   "execution_count": 54,
   "metadata": {},
   "outputs": [
    {
     "data": {
      "text/plain": [
       "'2020-05-07 13:32:07.179937'"
      ]
     },
     "execution_count": 54,
     "metadata": {},
     "output_type": "execute_result"
    }
   ],
   "source": [
    "str(datetime.utcnow() + timedelta(minutes=15))"
   ]
  },
  {
   "cell_type": "code",
   "execution_count": 9,
   "metadata": {
    "scrolled": true
   },
   "outputs": [],
   "source": [
    "params = {\n",
    "#     \"range[begin_at]\" : str(datetime.utcnow()) + \",\" + str(datetime.utcnow() + timedelta(minutes=15)),\n",
    "}"
   ]
  },
  {
   "cell_type": "code",
   "execution_count": null,
   "metadata": {},
   "outputs": [],
   "source": []
  },
  {
   "cell_type": "code",
   "execution_count": 10,
   "metadata": {},
   "outputs": [],
   "source": [
    "# params[\"ContentType\"] = \"application/vnd.api+json\""
   ]
  },
  {
   "cell_type": "code",
   "execution_count": 14,
   "metadata": {},
   "outputs": [],
   "source": [
    "res = requests.get(\"https://api.intra.42.fr/v2/users/jushin/scale_teams?access_token=0d1b4a890890daf6f73073454230b62f6e0982476e8466ff48f7c6f5fcb00677\", params = params)"
   ]
  },
  {
   "cell_type": "code",
   "execution_count": 37,
   "metadata": {},
   "outputs": [],
   "source": [
    "scale_dict = res.json()[0]"
   ]
  },
  {
   "cell_type": "code",
   "execution_count": 126,
   "metadata": {},
   "outputs": [
    {
     "data": {
      "text/plain": [
       "{'id': 2561231,\n",
       " 'scale_id': 2607,\n",
       " 'comment': '모든 문제를 계산기로 확인해 보았는데 오차없이 모두 맞으신 것 같습니다! 수고 많으셨습니다~!!',\n",
       " 'created_at': '2020-05-07T07:13:51.952Z',\n",
       " 'updated_at': '2020-05-07T08:12:30.386Z',\n",
       " 'feedback': '먼저 연락주셔서 신속히 평가를 진행할 수 있었습니다. 한 문제 한 문제 꼼꼼히 확인해주셔서 너무 감사했습니다. 건강 조심하시고 클러스터에서 뵙겠습니다!',\n",
       " 'final_mark': 100,\n",
       " 'flag': {'id': 1,\n",
       "  'name': 'Ok',\n",
       "  'positive': True,\n",
       "  'icon': 'check-4',\n",
       "  'created_at': '2015-09-14T23:06:52.000Z',\n",
       "  'updated_at': '2015-09-14T23:06:52.000Z'},\n",
       " 'begin_at': '2020-05-07T07:45:00.000Z',\n",
       " 'correcteds': [{'id': 69184,\n",
       "   'login': 'seoh',\n",
       "   'url': 'https://api.intra.42.fr/v2/users/seoh'}],\n",
       " 'corrector': {'id': 69060,\n",
       "  'login': 'jushin',\n",
       "  'url': 'https://api.intra.42.fr/v2/users/jushin'},\n",
       " 'truant': {},\n",
       " 'filled_at': '2020-05-07T07:57:12.433Z',\n",
       " 'questions_with_answers': [{'id': 27028,\n",
       "   'name': 'is it working?',\n",
       "   'guidelines': 'Clone the repository. Copy the encrypted evaluation key. Go to netwhat.42.fr.\\nLogin in on the website (the evaluated login). Click on the \"Get corrected\" button \\nand paste the key.\\nThe page will show the submitted answers.\\n',\n",
       "   'rating': 'bool',\n",
       "   'kind': 'standard',\n",
       "   'answers': [{'value': 1, 'answer': None}]},\n",
       "  {'id': 27029,\n",
       "   'name': 'is it correct?',\n",
       "   'guidelines': 'Discuss the question and the answer. If the answer is incorrect, the correction stops here. \\nKeep talking about the other questions and answers.\\n',\n",
       "   'rating': 'bool',\n",
       "   'kind': 'standard',\n",
       "   'answers': [{'value': 1, 'answer': None}]},\n",
       "  {'id': 27030,\n",
       "   'name': 'is it correct?',\n",
       "   'guidelines': 'Discuss the question and the answer. If the answer is incorrect, the correction stops here. \\nKeep talking about the other questions and answers.\\n',\n",
       "   'rating': 'bool',\n",
       "   'kind': 'standard',\n",
       "   'answers': [{'value': 1, 'answer': None}]},\n",
       "  {'id': 27031,\n",
       "   'name': 'is it correct?',\n",
       "   'guidelines': 'Discuss the question and the answer. If the answer is incorrect, the correction stops here. \\nKeep talking about the other questions and answers.\\n',\n",
       "   'rating': 'bool',\n",
       "   'kind': 'standard',\n",
       "   'answers': [{'value': 1, 'answer': None}]},\n",
       "  {'id': 27032,\n",
       "   'name': 'is it correct?',\n",
       "   'guidelines': 'Discuss the question and the answer. If the answer is incorrect, the correction stops here. \\nKeep talking about the other questions and answers.\\n',\n",
       "   'rating': 'bool',\n",
       "   'kind': 'standard',\n",
       "   'answers': [{'value': 1, 'answer': None}]},\n",
       "  {'id': 27033,\n",
       "   'name': 'is it correct?',\n",
       "   'guidelines': 'Discuss the question and the answer. If the answer is incorrect, the correction stops here. \\nKeep talking about the other questions and answers.\\n',\n",
       "   'rating': 'bool',\n",
       "   'kind': 'standard',\n",
       "   'answers': [{'value': 1, 'answer': None}]},\n",
       "  {'id': 27034,\n",
       "   'name': 'is it correct?',\n",
       "   'guidelines': 'Discuss the question and the answer. If the answer is incorrect, the correction stops here. \\nKeep talking about the other questions and answers.\\n',\n",
       "   'rating': 'bool',\n",
       "   'kind': 'standard',\n",
       "   'answers': [{'value': 1, 'answer': None}]},\n",
       "  {'id': 27035,\n",
       "   'name': 'is it correct?',\n",
       "   'guidelines': 'Discuss the question and the answer. If the answer is incorrect, the correction stops here. \\nKeep talking about the other questions and answers.\\n',\n",
       "   'rating': 'bool',\n",
       "   'kind': 'standard',\n",
       "   'answers': [{'value': 1, 'answer': None}]},\n",
       "  {'id': 27036,\n",
       "   'name': 'is it correct?',\n",
       "   'guidelines': 'Discuss the question and the answer. If the answer is incorrect, the correction stops here. \\nKeep talking about the other questions and answers.\\n',\n",
       "   'rating': 'bool',\n",
       "   'kind': 'standard',\n",
       "   'answers': [{'value': 1, 'answer': None}]},\n",
       "  {'id': 27037,\n",
       "   'name': 'is it correct?',\n",
       "   'guidelines': 'Discuss the question and the answer. If the answer is incorrect, the correction stops here. \\nKeep talking about the other questions and answers.\\n',\n",
       "   'rating': 'bool',\n",
       "   'kind': 'standard',\n",
       "   'answers': [{'value': 1, 'answer': None}]},\n",
       "  {'id': 27038,\n",
       "   'name': 'is it correct?',\n",
       "   'guidelines': 'Discuss the question and the answer. If the answer is incorrect, the correction stops here. \\nKeep talking about the other questions and answers.\\n',\n",
       "   'rating': 'bool',\n",
       "   'kind': 'standard',\n",
       "   'answers': [{'value': 1, 'answer': None}]},\n",
       "  {'id': 27039,\n",
       "   'name': 'is it correct?',\n",
       "   'guidelines': 'Discuss the question and the answer. If the answer is incorrect, the correction stops here. \\nKeep talking about the other questions and answers.\\n',\n",
       "   'rating': 'bool',\n",
       "   'kind': 'standard',\n",
       "   'answers': [{'value': 1, 'answer': None}]},\n",
       "  {'id': 27040,\n",
       "   'name': 'is it correct?',\n",
       "   'guidelines': 'Discuss the question and the answer. If the answer is incorrect, the correction stops here. \\nKeep talking about the other questions and answers.\\n',\n",
       "   'rating': 'bool',\n",
       "   'kind': 'standard',\n",
       "   'answers': [{'value': 1, 'answer': None}]},\n",
       "  {'id': 27041,\n",
       "   'name': 'is it correct?',\n",
       "   'guidelines': 'Discuss the question and the answer. If the answer is incorrect, the correction stops here. \\nKeep talking about the other questions and answers.\\n',\n",
       "   'rating': 'bool',\n",
       "   'kind': 'standard',\n",
       "   'answers': [{'value': 1, 'answer': None}]},\n",
       "  {'id': 27042,\n",
       "   'name': 'is it correct?',\n",
       "   'guidelines': 'Discuss the question and the answer. If the answer is incorrect, the correction stops here. \\nKeep talking about the other questions and answers.\\n',\n",
       "   'rating': 'bool',\n",
       "   'kind': 'standard',\n",
       "   'answers': [{'value': 1, 'answer': None}]},\n",
       "  {'id': 27043,\n",
       "   'name': 'is it correct?',\n",
       "   'guidelines': 'Discuss the question and the answer. If the answer is incorrect, the correction stops here. \\nKeep talking about the other questions and answers.\\n',\n",
       "   'rating': 'bool',\n",
       "   'kind': 'standard',\n",
       "   'answers': [{'value': 1, 'answer': None}]},\n",
       "  {'id': 27044,\n",
       "   'name': 'is it correct?',\n",
       "   'guidelines': 'Discuss the question and the answer. If the answer is incorrect, the correction stops here. \\nKeep talking about the other questions and answers.\\n',\n",
       "   'rating': 'bool',\n",
       "   'kind': 'standard',\n",
       "   'answers': [{'value': 1, 'answer': None}]},\n",
       "  {'id': 27045,\n",
       "   'name': 'is it correct?',\n",
       "   'guidelines': 'Discuss the question and the answer. If the answer is incorrect, the correction stops here. \\nKeep talking about the other questions and answers.\\n',\n",
       "   'rating': 'bool',\n",
       "   'kind': 'standard',\n",
       "   'answers': [{'value': 1, 'answer': None}]},\n",
       "  {'id': 27046,\n",
       "   'name': 'is it correct?',\n",
       "   'guidelines': 'Discuss the question and the answer. If the answer is incorrect, the correction stops here. \\nKeep talking about the other questions and answers.\\n',\n",
       "   'rating': 'bool',\n",
       "   'kind': 'standard',\n",
       "   'answers': [{'value': 1, 'answer': None}]},\n",
       "  {'id': 27047,\n",
       "   'name': 'is it correct?',\n",
       "   'guidelines': 'Discuss the question and the answer. If the answer is incorrect, the correction stops here. \\nKeep talking about the other questions and answers.\\n',\n",
       "   'rating': 'bool',\n",
       "   'kind': 'standard',\n",
       "   'answers': [{'value': 1, 'answer': None}]},\n",
       "  {'id': 27048,\n",
       "   'name': 'is it correct?',\n",
       "   'guidelines': 'Discuss the question and the answer. If the answer is incorrect, the correction stops here. \\nKeep talking about the other questions and answers.\\n',\n",
       "   'rating': 'bool',\n",
       "   'kind': 'standard',\n",
       "   'answers': [{'value': 1, 'answer': None}]}],\n",
       " 'scale': {'id': 2607,\n",
       "  'evaluation_id': 1593,\n",
       "  'name': 'scale 3',\n",
       "  'is_primary': True,\n",
       "  'comment': '',\n",
       "  'introduction_md': \"Please respect the following rules:\\n\\n- Remain polite, courteous, respectful and constructive\\n  throughout the evaluation process. The well-being of the community\\n  depends on it.\\n\\n- Identify with the person (or the group) evaluated the eventual\\n  dysfunctions of the work. Take the time to discuss\\n  and debate the problems you have identified.\\n\\n- You must consider that there might be some difference in how your\\n  peers might have understood the project's instructions and the\\n  scope of its functionalities. Always keep an open mind and grade\\n  him/her as honestly as possible. The pedagogy is valid only and\\n  only if peer-evaluation is conducted seriously.\\n\",\n",
       "  'disclaimer_md': '',\n",
       "  'guidelines_md': '- Only grade the work that is in the student or group\\'s\\n  GiT repository.\\n\\n- Double-check that the GiT repository belongs to the student\\n  or the group. Ensure that the work is for the relevant project\\n  and also check that \"git clone\" is used in an empty folder.\\n\\n- Check carefully that no malicious aliases was used to fool you\\n  and make you evaluate something other than the content of the\\n  official repository.\\n\\n- To avoid any surprises, carefully check that both the evaluating\\n  and the evaluated students have reviewed the possible scripts used\\n  to facilitate the grading.\\n\\n- If the evaluating student has not completed that particular\\n  project yet, it is mandatory for this student to read the\\n  entire subject prior to starting the defence.\\n\\n- Use the flags available on this scale to signal an empty repository,\\n  non-functioning program, a norm error, cheating etc. In these cases,\\n  the grading is over and the final grade is 0 (or -42 in case of\\n  cheating). However, with the exception of cheating, you are\\n  encouraged to continue to discuss your work (even if you have not\\n  finished it) in order to identify any issues that may have caused\\n  this failure and avoid repeating the same mistake in the future.\\n',\n",
       "  'created_at': '2020-04-15T08:55:19.715Z',\n",
       "  'correction_number': 3,\n",
       "  'duration': 900,\n",
       "  'manual_subscription': True,\n",
       "  'languages': [{'id': 2,\n",
       "    'name': 'English',\n",
       "    'identifier': 'en',\n",
       "    'created_at': '2015-04-14T16:07:38.122Z',\n",
       "    'updated_at': '2020-05-05T20:19:19.549Z'},\n",
       "   {'id': 1,\n",
       "    'name': 'Français',\n",
       "    'identifier': 'fr',\n",
       "    'created_at': '2014-11-02T16:43:38.466Z',\n",
       "    'updated_at': '2020-05-07T06:34:58.680Z'},\n",
       "   {'id': 11,\n",
       "    'name': 'Spanish',\n",
       "    'identifier': 'es',\n",
       "    'created_at': '2019-08-09T15:14:32.544Z',\n",
       "    'updated_at': '2020-05-05T16:58:39.643Z'}],\n",
       "  'flags': [{'id': 1,\n",
       "    'name': 'Ok',\n",
       "    'positive': True,\n",
       "    'icon': 'check-4',\n",
       "    'created_at': '2015-09-14T23:06:52.000Z',\n",
       "    'updated_at': '2015-09-14T23:06:52.000Z'},\n",
       "   {'id': 2,\n",
       "    'name': 'Empty work',\n",
       "    'positive': False,\n",
       "    'icon': 'file-1',\n",
       "    'created_at': '2015-09-14T23:06:52.000Z',\n",
       "    'updated_at': '2015-09-14T23:06:52.000Z'},\n",
       "   {'id': 3,\n",
       "    'name': 'Incomplete work',\n",
       "    'positive': False,\n",
       "    'icon': 'file-attention',\n",
       "    'created_at': '2015-09-14T23:06:52.000Z',\n",
       "    'updated_at': '2015-09-14T23:06:52.000Z'},\n",
       "   {'id': 7,\n",
       "    'name': 'Cheat',\n",
       "    'positive': False,\n",
       "    'icon': 'layers',\n",
       "    'created_at': '2015-09-14T23:06:52.000Z',\n",
       "    'updated_at': '2015-09-14T23:06:52.000Z'}],\n",
       "  'free': False},\n",
       " 'team': {'id': 3198063,\n",
       "  'name': \"seoh's group\",\n",
       "  'url': 'https://api.intra.42.fr/v2/teams/3198063',\n",
       "  'final_mark': 100,\n",
       "  'project_id': 1318,\n",
       "  'created_at': '2020-04-29T12:01:38.757Z',\n",
       "  'updated_at': '2020-05-07T08:13:19.230Z',\n",
       "  'status': 'finished',\n",
       "  'terminating_at': None,\n",
       "  'users': [{'id': 69184,\n",
       "    'login': 'seoh',\n",
       "    'url': 'https://api.intra.42.fr/v2/users/seoh',\n",
       "    'leader': True,\n",
       "    'occurrence': 0,\n",
       "    'validated': True,\n",
       "    'projects_user_id': 1901075}],\n",
       "  'locked?': True,\n",
       "  'validated?': True,\n",
       "  'closed?': True,\n",
       "  'repo_url': 'git@vogsphere.42seoul.kr:vogsphere/intra-uuid-cdc43b5f-2891-4a8d-bbda-9a8ef9ae75fa-3198063',\n",
       "  'repo_uuid': 'intra-uuid-cdc43b5f-2891-4a8d-bbda-9a8ef9ae75fa-3198063',\n",
       "  'locked_at': '2020-04-29T12:01:38.798Z',\n",
       "  'closed_at': '2020-04-29T12:20:08.104Z',\n",
       "  'project_session_id': 3304,\n",
       "  'project_gitlab_path': 'pedago_world/42-cursus/inner-circle/netwhat'},\n",
       " 'feedbacks': [{'id': 2465415,\n",
       "   'user': {'login': 'seoh',\n",
       "    'id': 69184,\n",
       "    'url': 'https://profile.intra.42.fr/users/seoh'},\n",
       "   'feedbackable_type': 'ScaleTeam',\n",
       "   'feedbackable_id': 2561231,\n",
       "   'comment': '먼저 연락주셔서 신속히 평가를 진행할 수 있었습니다. 한 문제 한 문제 꼼꼼히 확인해주셔서 너무 감사했습니다. 건강 조심하시고 클러스터에서 뵙겠습니다!',\n",
       "   'rating': 5,\n",
       "   'created_at': '2020-05-07T08:12:30.266Z'}]}"
      ]
     },
     "execution_count": 126,
     "metadata": {},
     "output_type": "execute_result"
    }
   ],
   "source": [
    "scale_dict"
   ]
  },
  {
   "cell_type": "code",
   "execution_count": 123,
   "metadata": {
    "scrolled": false
   },
   "outputs": [
    {
     "data": {
      "text/plain": [
       "datetime.datetime(2020, 5, 8, 13, 14, 10, 702082, tzinfo=datetime.timezone.utc)"
      ]
     },
     "execution_count": 123,
     "metadata": {},
     "output_type": "execute_result"
    }
   ],
   "source": [
    "datetime.datetime.now(datetime.timezone.utc)"
   ]
  },
  {
   "cell_type": "code",
   "execution_count": 130,
   "metadata": {},
   "outputs": [],
   "source": [
    "begin_time = datetime.datetime.strptime(scale_dict['begin_at'], \"%Y-%m-%dT%H:%M:%S.%fZ\")"
   ]
  },
  {
   "cell_type": "code",
   "execution_count": 115,
   "metadata": {},
   "outputs": [],
   "source": [
    "import pytz"
   ]
  },
  {
   "cell_type": "code",
   "execution_count": 131,
   "metadata": {},
   "outputs": [
    {
     "data": {
      "text/plain": [
       "datetime.datetime(2020, 5, 7, 7, 45, tzinfo=<DstTzInfo 'Asia/Seoul' KST+9:00:00 STD>)"
      ]
     },
     "execution_count": 131,
     "metadata": {},
     "output_type": "execute_result"
    }
   ],
   "source": [
    "begin_time.astimezone(seoul_timezone)"
   ]
  },
  {
   "cell_type": "code",
   "execution_count": 136,
   "metadata": {},
   "outputs": [],
   "source": [
    "utc_timezone = pytz.timezone(\"UTC\")\n",
    "seoul_timezone = pytz.timezone(\"Asia/Seoul\")\n",
    "localize_timestamp = utc_timezone.localize(begin_time)\n",
    "time = localize_timestamp.astimezone(seoul_timezone)"
   ]
  },
  {
   "cell_type": "code",
   "execution_count": 139,
   "metadata": {},
   "outputs": [
    {
     "data": {
      "text/plain": [
       "'16시 45분'"
      ]
     },
     "execution_count": 139,
     "metadata": {},
     "output_type": "execute_result"
    }
   ],
   "source": [
    "datetime.datetime.strftime(time, \"%H시 %M분\")"
   ]
  },
  {
   "cell_type": "code",
   "execution_count": 113,
   "metadata": {},
   "outputs": [
    {
     "ename": "TypeError",
     "evalue": "'timestamp' is an invalid keyword argument for this function",
     "output_type": "error",
     "traceback": [
      "\u001b[0;31m---------------------------------------------------------------------------\u001b[0m",
      "\u001b[0;31mTypeError\u001b[0m                                 Traceback (most recent call last)",
      "\u001b[0;32m<ipython-input-113-4d03bc2ce2b6>\u001b[0m in \u001b[0;36m<module>\u001b[0;34m\u001b[0m\n\u001b[0;32m----> 1\u001b[0;31m \u001b[0mdatetime\u001b[0m\u001b[0;34m.\u001b[0m\u001b[0mtimedelta\u001b[0m\u001b[0;34m(\u001b[0m\u001b[0mtimestamp\u001b[0m\u001b[0;34m=\u001b[0m\u001b[0mbegin_time\u001b[0m\u001b[0;34m)\u001b[0m\u001b[0;34m\u001b[0m\u001b[0;34m\u001b[0m\u001b[0m\n\u001b[0m",
      "\u001b[0;31mTypeError\u001b[0m: 'timestamp' is an invalid keyword argument for this function"
     ]
    }
   ],
   "source": [
    "datetime.timedelta(timestamp=begin_time)"
   ]
  },
  {
   "cell_type": "code",
   "execution_count": 108,
   "metadata": {},
   "outputs": [
    {
     "data": {
      "text/plain": [
       "138020.1543159485"
      ]
     },
     "execution_count": 108,
     "metadata": {},
     "output_type": "execute_result"
    }
   ],
   "source": [
    "datetime.datetime.now().timestamp() - begin_time"
   ]
  },
  {
   "cell_type": "code",
   "execution_count": 103,
   "metadata": {},
   "outputs": [
    {
     "ename": "SyntaxError",
     "evalue": "unexpected EOF while parsing (<ipython-input-103-7f2731ec22f6>, line 1)",
     "output_type": "error",
     "traceback": [
      "\u001b[0;36m  File \u001b[0;32m\"<ipython-input-103-7f2731ec22f6>\"\u001b[0;36m, line \u001b[0;32m1\u001b[0m\n\u001b[0;31m    str(datetime.datetime.fromtimestamp(begin_time - datetime.timedelta(datetime.datetime.now().timestamp()))\u001b[0m\n\u001b[0m                                                                                                             ^\u001b[0m\n\u001b[0;31mSyntaxError\u001b[0m\u001b[0;31m:\u001b[0m unexpected EOF while parsing\n"
     ]
    }
   ],
   "source": [
    "str(datetime.datetime.fromtimestamp(begin_time - datetime.timedelta(datetime.datetime.now().timestamp()))"
   ]
  },
  {
   "cell_type": "code",
   "execution_count": 81,
   "metadata": {},
   "outputs": [
    {
     "data": {
      "text/plain": [
       "'2020-05-07T07:45:00.000Z'"
      ]
     },
     "execution_count": 81,
     "metadata": {},
     "output_type": "execute_result"
    }
   ],
   "source": [
    "scale_dict['begin_at']"
   ]
  },
  {
   "cell_type": "code",
   "execution_count": 38,
   "metadata": {},
   "outputs": [
    {
     "data": {
      "text/plain": [
       "15"
      ]
     },
     "execution_count": 38,
     "metadata": {},
     "output_type": "execute_result"
    }
   ],
   "source": [
    "int(scale_dict['scale']['duration'] / 60)"
   ]
  },
  {
   "cell_type": "code",
   "execution_count": 39,
   "metadata": {},
   "outputs": [],
   "source": [
    "scale_info = {}"
   ]
  },
  {
   "cell_type": "code",
   "execution_count": 144,
   "metadata": {},
   "outputs": [],
   "source": [
    "scale_info['평가할 동료'] = scale_dict['team']['name'].split(\"'\")[0]\n",
    "\n",
    "begin_time = datetime.datetime.strptime(scale_dict['begin_at'], \"%Y-%m-%dT%H:%M:%S.%fZ\")\n",
    "utc_timezone = pytz.timezone(\"UTC\")\n",
    "seoul_timezone = pytz.timezone(\"Asia/Seoul\")\n",
    "localize_timestamp = utc_timezone.localize(begin_time)\n",
    "time = localize_timestamp.astimezone(seoul_timezone)\n",
    "scale_info['시작시간'] = datetime.datetime.strftime(time, \"%H시 %M분\")\n",
    "\n",
    "scale_info['평가진행시간'] = int(scale_dict['scale']['duration'] / 60)"
   ]
  },
  {
   "cell_type": "code",
   "execution_count": 145,
   "metadata": {},
   "outputs": [
    {
     "data": {
      "text/plain": [
       "{'평가할 동료': 'seoh', '시작시간': '16시 45분', '평가시간': 15, '평가진행시간': 15}"
      ]
     },
     "execution_count": 145,
     "metadata": {},
     "output_type": "execute_result"
    }
   ],
   "source": [
    "scale_info"
   ]
  },
  {
   "cell_type": "code",
   "execution_count": 174,
   "metadata": {},
   "outputs": [
    {
     "data": {
      "text/plain": [
       "True"
      ]
     },
     "execution_count": 174,
     "metadata": {},
     "output_type": "execute_result"
    }
   ],
   "source": [
    "'correcteds' in res.json()[0].keys()"
   ]
  },
  {
   "cell_type": "code",
   "execution_count": 108,
   "metadata": {},
   "outputs": [
    {
     "data": {
      "text/plain": [
       "'[]'"
      ]
     },
     "execution_count": 108,
     "metadata": {},
     "output_type": "execute_result"
    }
   ],
   "source": [
    "res.text"
   ]
  },
  {
   "cell_type": "code",
   "execution_count": 115,
   "metadata": {},
   "outputs": [],
   "source": [
    "from time import time\n",
    "import time as t"
   ]
  },
  {
   "cell_type": "markdown",
   "metadata": {},
   "source": [
    "code는 2시간에 한번씩 재발급 받기"
   ]
  },
  {
   "cell_type": "code",
   "execution_count": 124,
   "metadata": {},
   "outputs": [
    {
     "data": {
      "text/plain": [
       "'2020-05-08 01:42:26'"
      ]
     },
     "execution_count": 124,
     "metadata": {},
     "output_type": "execute_result"
    }
   ],
   "source": [
    "str(datetime.fromtimestamp(1588862546 + 7200))"
   ]
  },
  {
   "cell_type": "code",
   "execution_count": 125,
   "metadata": {},
   "outputs": [
    {
     "data": {
      "text/plain": [
       "'2020-05-07 23:42:26'"
      ]
     },
     "execution_count": 125,
     "metadata": {},
     "output_type": "execute_result"
    }
   ],
   "source": [
    "str(datetime.fromtimestamp(1588862546))"
   ]
  },
  {
   "cell_type": "code",
   "execution_count": 95,
   "metadata": {},
   "outputs": [
    {
     "data": {
      "text/plain": [
       "1588942747.797261"
      ]
     },
     "execution_count": 95,
     "metadata": {},
     "output_type": "execute_result"
    }
   ],
   "source": []
  },
  {
   "cell_type": "code",
   "execution_count": 96,
   "metadata": {},
   "outputs": [
    {
     "data": {
      "text/plain": [
       "'2020-05-08 21:59:13.965540'"
      ]
     },
     "execution_count": 96,
     "metadata": {},
     "output_type": "execute_result"
    }
   ],
   "source": [
    "str(datetime.datetime.fromtimestamp(datetime.datetime.now().timestamp()))"
   ]
  },
  {
   "cell_type": "code",
   "execution_count": 136,
   "metadata": {},
   "outputs": [],
   "source": [
    "import json"
   ]
  },
  {
   "cell_type": "code",
   "execution_count": 144,
   "metadata": {},
   "outputs": [],
   "source": [
    "js = [{\n",
    "    \"name\":\"jung\"\n",
    "}]"
   ]
  },
  {
   "cell_type": "code",
   "execution_count": 146,
   "metadata": {},
   "outputs": [],
   "source": [
    "jjson = json.dumps(js)"
   ]
  },
  {
   "cell_type": "code",
   "execution_count": 151,
   "metadata": {},
   "outputs": [
    {
     "data": {
      "text/plain": [
       "str"
      ]
     },
     "execution_count": 151,
     "metadata": {},
     "output_type": "execute_result"
    }
   ],
   "source": [
    "type(jjson)"
   ]
  },
  {
   "cell_type": "code",
   "execution_count": null,
   "metadata": {},
   "outputs": [],
   "source": []
  }
 ],
 "metadata": {
  "kernelspec": {
   "display_name": "Python 3",
   "language": "python",
   "name": "python3"
  },
  "language_info": {
   "codemirror_mode": {
    "name": "ipython",
    "version": 3
   },
   "file_extension": ".py",
   "mimetype": "text/x-python",
   "name": "python",
   "nbconvert_exporter": "python",
   "pygments_lexer": "ipython3",
   "version": "3.6.9"
  }
 },
 "nbformat": 4,
 "nbformat_minor": 2
}
