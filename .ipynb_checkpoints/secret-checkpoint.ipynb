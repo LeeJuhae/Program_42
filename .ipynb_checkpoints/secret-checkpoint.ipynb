{
 "cells": [
  {
   "cell_type": "code",
   "execution_count": null,
   "metadata": {},
   "outputs": [],
   "source": [
    "UID = \"8f45964ae9efeb4d7e19e73b66bf7335a1c878df4629c23e48164701d35e9468\"\n",
    "SECRET = \"e7f8f0ff740f3a26eb755f748c81cc36671922ae5bd70cf42b557ce4774f7633\""
   ]
  }
 ],
 "metadata": {
  "kernelspec": {
   "display_name": "Python 3",
   "language": "python",
   "name": "python3"
  },
  "language_info": {
   "codemirror_mode": {
    "name": "ipython",
    "version": 3
   },
   "file_extension": ".py",
   "mimetype": "text/x-python",
   "name": "python",
   "nbconvert_exporter": "python",
   "pygments_lexer": "ipython3",
   "version": "3.6.9"
  }
 },
 "nbformat": 4,
 "nbformat_minor": 2
}
