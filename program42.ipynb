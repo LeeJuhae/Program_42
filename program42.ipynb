{
 "cells": [
  {
   "cell_type": "code",
   "execution_count": 1,
   "metadata": {},
   "outputs": [],
   "source": [
    "import requests"
   ]
  },
  {
   "cell_type": "code",
   "execution_count": 2,
   "metadata": {},
   "outputs": [],
   "source": [
    "import secret"
   ]
  },
  {
   "cell_type": "code",
   "execution_count": 3,
   "metadata": {},
   "outputs": [],
   "source": [
    "URL = \"https://api.intra.42.fr/oauth/token\""
   ]
  },
  {
   "cell_type": "code",
   "execution_count": 4,
   "metadata": {},
   "outputs": [],
   "source": [
    "data = {\n",
    "    \"grant_type\": \"client_credentials\", \n",
    "    \"client_id\" : secret.UID,\n",
    "    \"client_secret\" : secret.SECRET\n",
    "}"
   ]
  },
  {
   "cell_type": "code",
   "execution_count": 5,
   "metadata": {},
   "outputs": [],
   "source": [
    "client = requests.post(URL, data=data)"
   ]
  },
  {
   "cell_type": "code",
   "execution_count": 6,
   "metadata": {},
   "outputs": [],
   "source": [
    "res = client.json()"
   ]
  },
  {
   "cell_type": "code",
   "execution_count": 7,
   "metadata": {},
   "outputs": [],
   "source": [
    "token = res.get('access_token')"
   ]
  },
  {
   "cell_type": "code",
   "execution_count": 8,
   "metadata": {},
   "outputs": [],
   "source": [
    "res = requests.get(\"https://api.intra.42.fr/v2/cursus\", params = res)"
   ]
  },
  {
   "cell_type": "code",
   "execution_count": 9,
   "metadata": {},
   "outputs": [
    {
     "data": {
      "text/plain": [
       "[{'id': 32,\n",
       "  'created_at': '2020-04-08T08:41:07.257Z',\n",
       "  'name': '42 seoul test2',\n",
       "  'slug': '42-seoul-test2'},\n",
       " {'id': 31,\n",
       "  'created_at': '2020-04-08T07:48:20.403Z',\n",
       "  'name': 'kor-test',\n",
       "  'slug': 'kor-test'},\n",
       " {'id': 28,\n",
       "  'created_at': '2020-03-24T06:39:03.649Z',\n",
       "  'name': 'Reloaded',\n",
       "  'slug': 'reloaded'},\n",
       " {'id': 27,\n",
       "  'created_at': '2020-03-18T10:24:51.752Z',\n",
       "  'name': 'RPA',\n",
       "  'slug': 'rpa'},\n",
       " {'id': 26,\n",
       "  'created_at': '2020-02-11T21:17:18.491Z',\n",
       "  'name': 'H2STest',\n",
       "  'slug': 'h2stest'},\n",
       " {'id': 25,\n",
       "  'created_at': '2019-12-04T16:13:04.537Z',\n",
       "  'name': 'micropiscine-web-101',\n",
       "  'slug': 'micropiscine-web-101'},\n",
       " {'id': 23,\n",
       "  'created_at': '2019-08-27T09:02:47.893Z',\n",
       "  'name': 'python-101',\n",
       "  'slug': 'python-101'},\n",
       " {'id': 22,\n",
       "  'created_at': '2019-08-05T11:25:46.878Z',\n",
       "  'name': 'static-riddle-101',\n",
       "  'slug': 'static-riddle-101'},\n",
       " {'id': 21,\n",
       "  'created_at': '2019-07-29T08:45:17.896Z',\n",
       "  'name': '42cursus',\n",
       "  'slug': '42cursus'},\n",
       " {'id': 20,\n",
       "  'created_at': '2018-09-08T18:34:56.909Z',\n",
       "  'name': 'Boost',\n",
       "  'slug': 'boost'},\n",
       " {'id': 19,\n",
       "  'created_at': '2018-03-27T22:33:03.213Z',\n",
       "  'name': 'Atlantis',\n",
       "  'slug': 'atlantis'},\n",
       " {'id': 18,\n",
       "  'created_at': '2017-12-15T22:31:21.361Z',\n",
       "  'name': 'Starfleet',\n",
       "  'slug': 'starfleet'},\n",
       " {'id': 17,\n",
       "  'created_at': '2017-08-28T23:27:49.646Z',\n",
       "  'name': 'H2S',\n",
       "  'slug': 'h2s'},\n",
       " {'id': 16,\n",
       "  'created_at': '2017-06-06T21:13:39.178Z',\n",
       "  'name': 'X-Mansion-Namido',\n",
       "  'slug': 'x-mansion-namido'},\n",
       " {'id': 15,\n",
       "  'created_at': '2017-05-29T22:01:22.923Z',\n",
       "  'name': 'X-Mansion',\n",
       "  'slug': 'x-mansion'},\n",
       " {'id': 14,\n",
       "  'created_at': '2017-05-15T09:53:41.742Z',\n",
       "  'name': 'Technical Interview',\n",
       "  'slug': 'technical-interview'},\n",
       " {'id': 13,\n",
       "  'created_at': '2017-02-01T14:25:42.300Z',\n",
       "  'name': '42 Labs',\n",
       "  'slug': '42-labs'},\n",
       " {'id': 12,\n",
       "  'created_at': '2016-08-23T14:37:59.752Z',\n",
       "  'name': 'Créa',\n",
       "  'slug': 'crea'},\n",
       " {'id': 11,\n",
       "  'created_at': '2015-12-08T11:59:17.803Z',\n",
       "  'name': 'BootCamp',\n",
       "  'slug': 'bootcamp'},\n",
       " {'id': 10,\n",
       "  'created_at': '2015-11-12T16:35:19.549Z',\n",
       "  'name': 'Formation Pole Emploi',\n",
       "  'slug': 'formation-pole-emploi'},\n",
       " {'id': 9,\n",
       "  'created_at': '2015-11-04T10:58:13.979Z',\n",
       "  'name': 'C Piscine',\n",
       "  'slug': 'c-piscine'},\n",
       " {'id': 8,\n",
       "  'created_at': '2015-09-22T11:35:20.216Z',\n",
       "  'name': 'WeThinkCode_',\n",
       "  'slug': 'wethinkcode_'},\n",
       " {'id': 7,\n",
       "  'created_at': '2015-09-21T12:40:13.452Z',\n",
       "  'name': 'Piscine C à distance',\n",
       "  'slug': 'piscine-c-a-distance'},\n",
       " {'id': 6,\n",
       "  'created_at': '2015-09-21T12:36:09.128Z',\n",
       "  'name': 'Piscine C décloisonnée',\n",
       "  'slug': 'piscine-c-decloisonnee'},\n",
       " {'id': 5,\n",
       "  'created_at': '2015-09-20T13:27:03.918Z',\n",
       "  'name': '42partnerships',\n",
       "  'slug': '42partnerships'},\n",
       " {'id': 4,\n",
       "  'created_at': '2015-05-01T17:46:08.433Z',\n",
       "  'name': 'Piscine C',\n",
       "  'slug': 'piscine-c'},\n",
       " {'id': 3,\n",
       "  'created_at': '2015-04-20T07:39:49.050Z',\n",
       "  'name': 'Discovery Piscine',\n",
       "  'slug': 'discovery-piscine'},\n",
       " {'id': 1,\n",
       "  'created_at': '2014-11-02T16:43:38.480Z',\n",
       "  'name': '42',\n",
       "  'slug': '42'}]"
      ]
     },
     "execution_count": 9,
     "metadata": {},
     "output_type": "execute_result"
    }
   ],
   "source": [
    "res.json()"
   ]
  },
  {
   "cell_type": "code",
   "execution_count": null,
   "metadata": {},
   "outputs": [],
   "source": []
  }
 ],
 "metadata": {
  "kernelspec": {
   "display_name": "Python 3",
   "language": "python",
   "name": "python3"
  },
  "language_info": {
   "codemirror_mode": {
    "name": "ipython",
    "version": 3
   },
   "file_extension": ".py",
   "mimetype": "text/x-python",
   "name": "python",
   "nbconvert_exporter": "python",
   "pygments_lexer": "ipython3",
   "version": "3.6.9"
  }
 },
 "nbformat": 4,
 "nbformat_minor": 2
}
