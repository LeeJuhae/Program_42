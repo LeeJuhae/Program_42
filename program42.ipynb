{
 "cells": [
  {
   "cell_type": "code",
   "execution_count": 1,
   "metadata": {},
   "outputs": [],
   "source": [
    "import requests"
   ]
  },
  {
   "cell_type": "code",
   "execution_count": 2,
   "metadata": {},
   "outputs": [],
   "source": [
    "import secret"
   ]
  },
  {
   "cell_type": "code",
   "execution_count": 3,
   "metadata": {},
   "outputs": [],
   "source": [
    "URL = \"https://api.intra.42.fr/oauth/token\""
   ]
  },
  {
   "cell_type": "code",
   "execution_count": 4,
   "metadata": {},
   "outputs": [],
   "source": [
    "data = {\n",
    "    \"grant_type\": \"client_credentials\",\n",
    "    \"client_id\" : secret.UID,\n",
    "    \"client_secret\" : secret.SECRET\n",
    "}"
   ]
  },
  {
   "cell_type": "code",
   "execution_count": 5,
   "metadata": {},
   "outputs": [],
   "source": [
    "client = requests.post(URL, data=data)"
   ]
  },
  {
   "cell_type": "code",
   "execution_count": 6,
   "metadata": {},
   "outputs": [],
   "source": [
    "params = client.json()"
   ]
  },
  {
   "cell_type": "code",
   "execution_count": 7,
   "metadata": {},
   "outputs": [
    {
     "data": {
      "text/plain": [
       "{'access_token': '235a5e2e2a406645536df7acb20d46d0f98194a81cd220069f41023e3e251972',\n",
       " 'token_type': 'bearer',\n",
       " 'expires_in': 7200,\n",
       " 'scope': 'public',\n",
       " 'created_at': 1588606262}"
      ]
     },
     "execution_count": 7,
     "metadata": {},
     "output_type": "execute_result"
    }
   ],
   "source": [
    "params"
   ]
  },
  {
   "cell_type": "code",
   "execution_count": 8,
   "metadata": {},
   "outputs": [],
   "source": [
    "# params[\"ContentType\"] = \"application/vnd.api+json\""
   ]
  },
  {
   "cell_type": "code",
   "execution_count": 15,
   "metadata": {},
   "outputs": [],
   "source": [
    "res = requests.get(\"https://api.intra.42.fr/v2/users/juhlee\", params = params)"
   ]
  },
  {
   "cell_type": "code",
   "execution_count": 17,
   "metadata": {},
   "outputs": [
    {
     "data": {
      "text/plain": [
       "dict_keys(['id', 'email', 'login', 'first_name', 'last_name', 'url', 'phone', 'displayname', 'image_url', 'staff?', 'correction_point', 'pool_month', 'pool_year', 'location', 'wallet', 'anonymize_date', 'groups', 'cursus_users', 'projects_users', 'languages_users', 'achievements', 'titles', 'titles_users', 'partnerships', 'patroned', 'patroning', 'expertises_users', 'campus', 'campus_users'])"
      ]
     },
     "execution_count": 17,
     "metadata": {},
     "output_type": "execute_result"
    }
   ],
   "source": [
    "res.json().keys()"
   ]
  },
  {
   "cell_type": "code",
   "execution_count": 27,
   "metadata": {},
   "outputs": [
    {
     "data": {
      "text/plain": [
       "[{'id': 29,\n",
       "  'name': 'Seoul',\n",
       "  'time_zone': 'Asia/Seoul',\n",
       "  'language': {'id': 14,\n",
       "   'name': 'Korean',\n",
       "   'identifier': 'ko',\n",
       "   'created_at': '2020-01-08T10:56:47.481Z',\n",
       "   'updated_at': '2020-04-25T19:29:50.324Z'},\n",
       "  'users_count': 491,\n",
       "  'vogsphere_id': 19,\n",
       "  'country': 'Korea, Republic of',\n",
       "  'address': 'Gaepo Digital Innovation Park, 416, Gaepo-ro, Gangnam-gu,',\n",
       "  'zip': '000000',\n",
       "  'city': 'Seoul',\n",
       "  'website': '42seoul.kr',\n",
       "  'facebook': 'https://www.facebook.com/inno.aca/  ',\n",
       "  'twitter': 'https://twitter.com/inno_aca',\n",
       "  'active': True}]"
      ]
     },
     "execution_count": 27,
     "metadata": {},
     "output_type": "execute_result"
    }
   ],
   "source": [
    "res.json().get('campus')"
   ]
  },
  {
   "cell_type": "code",
   "execution_count": null,
   "metadata": {},
   "outputs": [],
   "source": []
  }
 ],
 "metadata": {
  "kernelspec": {
   "display_name": "Python 3",
   "language": "python",
   "name": "python3"
  },
  "language_info": {
   "codemirror_mode": {
    "name": "ipython",
    "version": 3
   },
   "file_extension": ".py",
   "mimetype": "text/x-python",
   "name": "python",
   "nbconvert_exporter": "python",
   "pygments_lexer": "ipython3",
   "version": "3.6.9"
  }
 },
 "nbformat": 4,
 "nbformat_minor": 2
}
